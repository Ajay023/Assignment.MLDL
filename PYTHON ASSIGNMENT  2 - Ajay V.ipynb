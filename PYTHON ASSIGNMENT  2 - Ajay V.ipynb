{
 "cells": [
  {
   "cell_type": "markdown",
   "id": "2a21b88c",
   "metadata": {},
   "source": [
    "## PYTHON ASSIGNMENT 2 "
   ]
  },
  {
   "cell_type": "markdown",
   "id": "4ce81a32",
   "metadata": {},
   "source": [
    "### 1. Create the pattern using nested for loop in Python. \n"
   ]
  },
  {
   "cell_type": "code",
   "execution_count": 1,
   "id": "4786d2a1",
   "metadata": {},
   "outputs": [
    {
     "name": "stdout",
     "output_type": "stream",
     "text": [
      "ANSWER 1\n",
      "\r\n",
      "*\r\n",
      "**\r\n",
      "***\r\n",
      "****\r\n",
      "*****\r\n",
      "****\r\n",
      "***\r\n",
      "**\r\n",
      "*\r\n"
     ]
    }
   ],
   "source": [
    "print(\"ANSWER 1\")\n",
    "n = 5\n",
    "for i in range (0,n):\n",
    "    for j in range (i):\n",
    "        print(\"*\", end=\"\")\n",
    "    print('\\r')\n",
    "\n",
    "for i in range (n,0,-1):\n",
    "    for j in range (i):\n",
    "        print(\"*\", end=\"\")\n",
    "    print('\\r')"
   ]
  },
  {
   "cell_type": "markdown",
   "id": "cd230a53",
   "metadata": {},
   "source": [
    "### 2. Write a Python program to reverse a word after accepting the input from the user.\n",
    " \n",
    " ### Sample Output: \n",
    " #### Input word: ineuron\n",
    " #### Output: norueni"
   ]
  },
  {
   "cell_type": "code",
   "execution_count": 2,
   "id": "f5c295cc",
   "metadata": {},
   "outputs": [
    {
     "name": "stdout",
     "output_type": "stream",
     "text": [
      "ANSWER 2\n",
      "\n",
      "Type in the the word to be reversed  : ineuron\n",
      "\n",
      "The reversed word is :  norueni\n"
     ]
    }
   ],
   "source": [
    "print(\"ANSWER 2\")\n",
    "print('\\r')\n",
    "s1 = input('Type in the the word to be reversed  : ')\n",
    "print('\\r')\n",
    "print ('The reversed word is : ', s1[-1: :-1])"
   ]
  },
  {
   "cell_type": "code",
   "execution_count": null,
   "id": "f81b9de7",
   "metadata": {},
   "outputs": [],
   "source": []
  }
 ],
 "metadata": {
  "kernelspec": {
   "display_name": "Python 3",
   "language": "python",
   "name": "python3"
  },
  "language_info": {
   "codemirror_mode": {
    "name": "ipython",
    "version": 3
   },
   "file_extension": ".py",
   "mimetype": "text/x-python",
   "name": "python",
   "nbconvert_exporter": "python",
   "pygments_lexer": "ipython3",
   "version": "3.8.8"
  }
 },
 "nbformat": 4,
 "nbformat_minor": 5
}
